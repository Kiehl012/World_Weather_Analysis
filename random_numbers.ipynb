{
 "cells": [
  {
   "cell_type": "code",
   "execution_count": 1,
   "id": "941cdb8b-8d19-4b9a-bbe6-dc4a8106e088",
   "metadata": {},
   "outputs": [],
   "source": [
    "# Import the random module.\n",
    "import random"
   ]
  },
  {
   "cell_type": "code",
   "execution_count": 3,
   "id": "5516074d-99ad-4e90-ad70-b2ec83b09018",
   "metadata": {},
   "outputs": [
    {
     "data": {
      "text/plain": [
       "83"
      ]
     },
     "execution_count": 3,
     "metadata": {},
     "output_type": "execute_result"
    }
   ],
   "source": [
    "random.randint(-90, 90)"
   ]
  },
  {
   "cell_type": "code",
   "execution_count": 4,
   "id": "d0037656-d88e-4aea-ba08-b5ba2d784bc3",
   "metadata": {},
   "outputs": [],
   "source": [
    "x = 1\n",
    "latitudes = []\n",
    "while x < 11:\n",
    "    random_lat = random.randint(-90, 89) + random.random()\n",
    "    latitudes.append(random_lat)\n",
    "    x += 1"
   ]
  },
  {
   "cell_type": "code",
   "execution_count": 5,
   "id": "5e49cd36-c5e8-4380-b1e6-c136be95d224",
   "metadata": {},
   "outputs": [
    {
     "data": {
      "text/plain": [
       "[-40.654148255120866,\n",
       " -61.225377329258556,\n",
       " -13.95378012588371,\n",
       " 8.842309352094384,\n",
       " -25.43364611072208,\n",
       " 40.077864291185406,\n",
       " -83.53660101552371,\n",
       " 5.2466683703546115,\n",
       " 50.18838641094613,\n",
       " 66.29369298278259]"
      ]
     },
     "execution_count": 5,
     "metadata": {},
     "output_type": "execute_result"
    }
   ],
   "source": [
    "latitudes"
   ]
  },
  {
   "cell_type": "code",
   "execution_count": 9,
   "id": "98ce4024-111c-4ab1-85c4-440b9d842d7f",
   "metadata": {},
   "outputs": [],
   "source": [
    "# Import the NumPy module.\n",
    "import numpy as np"
   ]
  },
  {
   "cell_type": "code",
   "execution_count": 10,
   "id": "583f3c94-1bb7-4b3c-bb0e-3c28186c552b",
   "metadata": {},
   "outputs": [
    {
     "data": {
      "text/plain": [
       "array([-46.08714132,  57.94400375,  41.59268947, -43.40638362,\n",
       "       -53.63909684,  35.60711831, -20.59617867,  47.23596733,\n",
       "        88.64892639,  34.80559464, -86.93459515, -82.5647861 ,\n",
       "        18.97336742, -77.3449094 , -43.60178384, -68.03823958,\n",
       "        61.58203797, -81.6719768 , -39.03103888, -80.57355241,\n",
       "        48.74611951,  71.59269324,  69.89806345, -72.54753677,\n",
       "        63.63714952,  -4.80890692,  34.52377691, -80.45742461,\n",
       "       -70.49504794,  60.71236025,  77.80988475,  87.34772804,\n",
       "        76.95126622, -18.57156122, -81.23003275, -50.18274852,\n",
       "        84.76721078,  -3.58260067,  -9.97377281,  14.35794363,\n",
       "       -42.91408994,  60.27487968, -88.80310635,  -8.38098491,\n",
       "        65.53324489,  34.22447882,  16.39939678,  34.84944861,\n",
       "        71.95102816, -49.03099741])"
      ]
     },
     "execution_count": 10,
     "metadata": {},
     "output_type": "execute_result"
    }
   ],
   "source": [
    "np.random.uniform(-90.000, 90.000, size=50)"
   ]
  },
  {
   "cell_type": "code",
   "execution_count": 11,
   "id": "62bcbcd1-cb90-44bb-b1e7-462f7299ec76",
   "metadata": {},
   "outputs": [],
   "source": [
    "# Import timeit.\n",
    "import timeit"
   ]
  },
  {
   "cell_type": "code",
   "execution_count": 12,
   "id": "603b2ede-7857-4f3d-9908-00c412a871ac",
   "metadata": {},
   "outputs": [
    {
     "name": "stdout",
     "output_type": "stream",
     "text": [
      "24.4 µs ± 358 ns per loop (mean ± std. dev. of 7 runs, 10000 loops each)\n"
     ]
    }
   ],
   "source": [
    "%timeit np.random.uniform(-90.000, 90.000, size=1500)"
   ]
  },
  {
   "cell_type": "code",
   "execution_count": 13,
   "id": "b473124f-2c1e-4ef8-bc3b-46326fa44e8e",
   "metadata": {},
   "outputs": [
    {
     "name": "stdout",
     "output_type": "stream",
     "text": [
      "2.07 ms ± 37.7 µs per loop (mean ± std. dev. of 7 runs, 100 loops each)\n"
     ]
    }
   ],
   "source": [
    "def latitudes(size):\n",
    "    latitudes = []\n",
    "    x = 0\n",
    "    while x < (size):\n",
    "        random_lat = random.randint(-90, 90) + random.random()\n",
    "        latitudes.append(random_lat)\n",
    "        x += 1\n",
    "    return latitudes\n",
    "# Call the function with 1500.\n",
    "%timeit latitudes(1500)"
   ]
  },
  {
   "cell_type": "code",
   "execution_count": null,
   "id": "e6f8a6fa-16fd-41cf-acb2-a7a4ae0814a0",
   "metadata": {},
   "outputs": [],
   "source": []
  }
 ],
 "metadata": {
  "kernelspec": {
   "display_name": "Python 3 (ipykernel)",
   "language": "python",
   "name": "python3"
  },
  "language_info": {
   "codemirror_mode": {
    "name": "ipython",
    "version": 3
   },
   "file_extension": ".py",
   "mimetype": "text/x-python",
   "name": "python",
   "nbconvert_exporter": "python",
   "pygments_lexer": "ipython3",
   "version": "3.8.8"
  }
 },
 "nbformat": 4,
 "nbformat_minor": 5
}
